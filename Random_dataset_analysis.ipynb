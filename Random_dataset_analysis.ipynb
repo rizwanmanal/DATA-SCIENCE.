{
 "cells": [
  {
   "cell_type": "markdown",
   "id": "aef8e072",
   "metadata": {},
   "source": [
    "# pandas library"
   ]
  },
  {
   "cell_type": "code",
   "execution_count": 1,
   "id": "85dfe2b8",
   "metadata": {},
   "outputs": [],
   "source": [
    "import pandas as pd\n",
    "import numpy as np\n",
    "import random"
   ]
  },
  {
   "cell_type": "code",
   "execution_count": 2,
   "id": "54aaf14b",
   "metadata": {},
   "outputs": [],
   "source": [
    "# Step 1: Create a dataset with 50,000 rows\n",
    "np.random.seed(42)  # For reproducibility\n",
    "\n",
    "# Random data generation\n",
    "order_ids = np.arange(1, 50001)\n",
    "products = [\"Laptop\", \"Smartphone\", \"Tablet\", \"Desk Chair\", \"Desk\", \"Pen\", \"Notebook\", \"Coffee Mug\"]\n",
    "categories = [\"Electronics\", \"Furniture\", \"Office Supplies\"]\n",
    "regions = [\"East Coast\", \"West Coast\", \"Midwest\", \"South\"]\n"
   ]
  },
  {
   "cell_type": "code",
   "execution_count": 3,
   "id": "2bc7ac92",
   "metadata": {},
   "outputs": [],
   "source": [
    "data = {\n",
    "    \"OrderID\": order_ids,\n",
    "    \"Product\": np.random.choice(products, size=50000),\n",
    "    \"Category\": np.random.choice(categories, size=50000),\n",
    "    \"Quantity\": np.random.randint(1, 11, size=50000),\n",
    "    \"Price\": np.random.randint(5, 1001, size=50000),\n",
    "    \"Discount\": np.random.uniform(0.01, 0.50, size=50000).round(2),\n",
    "    \"Region\": np.random.choice(regions, size=50000),\n",
    "    \"Date\": pd.date_range(start=\"2024-01-01\", periods=50000, freq=\"T\").strftime(\"%Y-%m-%d\"),\n",
    "}"
   ]
  },
  {
   "cell_type": "code",
   "execution_count": 4,
   "id": "b6e292a8",
   "metadata": {},
   "outputs": [],
   "source": [
    "# Add Revenue Column\n",
    "data[\"Revenue\"] = (data[\"Price\"] * data[\"Quantity\"] * (1 - data[\"Discount\"])).round(2)"
   ]
  },
  {
   "cell_type": "code",
   "execution_count": 5,
   "id": "b145ef86",
   "metadata": {},
   "outputs": [],
   "source": [
    "# Convert to DataFrame\n",
    "df = pd.DataFrame(data)"
   ]
  },
  {
   "cell_type": "code",
   "execution_count": null,
   "id": "7ce5166b",
   "metadata": {},
   "outputs": [],
   "source": [
    "import pandas as pd\n",
    "import numpy as np\n",
    "import random"
   ]
  },
  {
   "cell_type": "code",
   "execution_count": 43,
   "id": "ceec8d05",
   "metadata": {},
   "outputs": [
    {
     "data": {
      "text/html": [
       "<div>\n",
       "<style scoped>\n",
       "    .dataframe tbody tr th:only-of-type {\n",
       "        vertical-align: middle;\n",
       "    }\n",
       "\n",
       "    .dataframe tbody tr th {\n",
       "        vertical-align: top;\n",
       "    }\n",
       "\n",
       "    .dataframe thead th {\n",
       "        text-align: right;\n",
       "    }\n",
       "</style>\n",
       "<table border=\"1\" class=\"dataframe\">\n",
       "  <thead>\n",
       "    <tr style=\"text-align: right;\">\n",
       "      <th></th>\n",
       "      <th>OrderID</th>\n",
       "      <th>Product</th>\n",
       "      <th>Category</th>\n",
       "      <th>Quantity</th>\n",
       "      <th>Price</th>\n",
       "      <th>Discount</th>\n",
       "      <th>Date</th>\n",
       "      <th>Revenue</th>\n",
       "      <th>Total Price</th>\n",
       "      <th>Year</th>\n",
       "      <th>Discounted Price</th>\n",
       "      <th>Total Value</th>\n",
       "    </tr>\n",
       "  </thead>\n",
       "  <tbody>\n",
       "    <tr>\n",
       "      <th>0</th>\n",
       "      <td>1</td>\n",
       "      <td>Notebook</td>\n",
       "      <td>Furniture</td>\n",
       "      <td>1</td>\n",
       "      <td>455</td>\n",
       "      <td>0.12</td>\n",
       "      <td>2024-01-01</td>\n",
       "      <td>400.40</td>\n",
       "      <td>455</td>\n",
       "      <td>2024</td>\n",
       "      <td>409.5</td>\n",
       "      <td>455</td>\n",
       "    </tr>\n",
       "    <tr>\n",
       "      <th>1</th>\n",
       "      <td>2</td>\n",
       "      <td>Desk Chair</td>\n",
       "      <td>Furniture</td>\n",
       "      <td>3</td>\n",
       "      <td>965</td>\n",
       "      <td>0.20</td>\n",
       "      <td>2024-01-01</td>\n",
       "      <td>2316.00</td>\n",
       "      <td>2895</td>\n",
       "      <td>2024</td>\n",
       "      <td>868.5</td>\n",
       "      <td>2895</td>\n",
       "    </tr>\n",
       "    <tr>\n",
       "      <th>2</th>\n",
       "      <td>3</td>\n",
       "      <td>Desk</td>\n",
       "      <td>Electronics</td>\n",
       "      <td>1</td>\n",
       "      <td>648</td>\n",
       "      <td>0.02</td>\n",
       "      <td>2024-01-01</td>\n",
       "      <td>635.04</td>\n",
       "      <td>648</td>\n",
       "      <td>2024</td>\n",
       "      <td>583.2</td>\n",
       "      <td>648</td>\n",
       "    </tr>\n",
       "    <tr>\n",
       "      <th>3</th>\n",
       "      <td>4</td>\n",
       "      <td>Notebook</td>\n",
       "      <td>Office Supplies</td>\n",
       "      <td>9</td>\n",
       "      <td>526</td>\n",
       "      <td>0.09</td>\n",
       "      <td>2024-01-01</td>\n",
       "      <td>4307.94</td>\n",
       "      <td>4734</td>\n",
       "      <td>2024</td>\n",
       "      <td>473.4</td>\n",
       "      <td>4734</td>\n",
       "    </tr>\n",
       "    <tr>\n",
       "      <th>4</th>\n",
       "      <td>5</td>\n",
       "      <td>Tablet</td>\n",
       "      <td>Office Supplies</td>\n",
       "      <td>7</td>\n",
       "      <td>613</td>\n",
       "      <td>0.41</td>\n",
       "      <td>2024-01-01</td>\n",
       "      <td>2531.69</td>\n",
       "      <td>4291</td>\n",
       "      <td>2024</td>\n",
       "      <td>551.7</td>\n",
       "      <td>4291</td>\n",
       "    </tr>\n",
       "    <tr>\n",
       "      <th>5</th>\n",
       "      <td>6</td>\n",
       "      <td>Coffee Mug</td>\n",
       "      <td>Office Supplies</td>\n",
       "      <td>5</td>\n",
       "      <td>843</td>\n",
       "      <td>0.27</td>\n",
       "      <td>2024-01-01</td>\n",
       "      <td>3076.95</td>\n",
       "      <td>4215</td>\n",
       "      <td>2024</td>\n",
       "      <td>758.7</td>\n",
       "      <td>4215</td>\n",
       "    </tr>\n",
       "    <tr>\n",
       "      <th>6</th>\n",
       "      <td>7</td>\n",
       "      <td>Desk</td>\n",
       "      <td>Office Supplies</td>\n",
       "      <td>7</td>\n",
       "      <td>83</td>\n",
       "      <td>0.06</td>\n",
       "      <td>2024-01-01</td>\n",
       "      <td>546.14</td>\n",
       "      <td>581</td>\n",
       "      <td>2024</td>\n",
       "      <td>74.7</td>\n",
       "      <td>581</td>\n",
       "    </tr>\n",
       "    <tr>\n",
       "      <th>7</th>\n",
       "      <td>8</td>\n",
       "      <td>Desk</td>\n",
       "      <td>Electronics</td>\n",
       "      <td>3</td>\n",
       "      <td>973</td>\n",
       "      <td>0.05</td>\n",
       "      <td>2024-01-01</td>\n",
       "      <td>2773.05</td>\n",
       "      <td>2919</td>\n",
       "      <td>2024</td>\n",
       "      <td>875.7</td>\n",
       "      <td>2919</td>\n",
       "    </tr>\n",
       "    <tr>\n",
       "      <th>8</th>\n",
       "      <td>9</td>\n",
       "      <td>Notebook</td>\n",
       "      <td>Electronics</td>\n",
       "      <td>3</td>\n",
       "      <td>841</td>\n",
       "      <td>0.46</td>\n",
       "      <td>2024-01-01</td>\n",
       "      <td>1362.42</td>\n",
       "      <td>2523</td>\n",
       "      <td>2024</td>\n",
       "      <td>756.9</td>\n",
       "      <td>2523</td>\n",
       "    </tr>\n",
       "    <tr>\n",
       "      <th>9</th>\n",
       "      <td>10</td>\n",
       "      <td>Smartphone</td>\n",
       "      <td>Electronics</td>\n",
       "      <td>1</td>\n",
       "      <td>760</td>\n",
       "      <td>0.19</td>\n",
       "      <td>2024-01-01</td>\n",
       "      <td>615.60</td>\n",
       "      <td>760</td>\n",
       "      <td>2024</td>\n",
       "      <td>684.0</td>\n",
       "      <td>760</td>\n",
       "    </tr>\n",
       "  </tbody>\n",
       "</table>\n",
       "</div>"
      ],
      "text/plain": [
       "   OrderID     Product         Category  Quantity  Price  Discount       Date  \\\n",
       "0        1    Notebook        Furniture         1    455      0.12 2024-01-01   \n",
       "1        2  Desk Chair        Furniture         3    965      0.20 2024-01-01   \n",
       "2        3        Desk      Electronics         1    648      0.02 2024-01-01   \n",
       "3        4    Notebook  Office Supplies         9    526      0.09 2024-01-01   \n",
       "4        5      Tablet  Office Supplies         7    613      0.41 2024-01-01   \n",
       "5        6  Coffee Mug  Office Supplies         5    843      0.27 2024-01-01   \n",
       "6        7        Desk  Office Supplies         7     83      0.06 2024-01-01   \n",
       "7        8        Desk      Electronics         3    973      0.05 2024-01-01   \n",
       "8        9    Notebook      Electronics         3    841      0.46 2024-01-01   \n",
       "9       10  Smartphone      Electronics         1    760      0.19 2024-01-01   \n",
       "\n",
       "   Revenue  Total Price  Year  Discounted Price  Total Value  \n",
       "0   400.40          455  2024             409.5          455  \n",
       "1  2316.00         2895  2024             868.5         2895  \n",
       "2   635.04          648  2024             583.2          648  \n",
       "3  4307.94         4734  2024             473.4         4734  \n",
       "4  2531.69         4291  2024             551.7         4291  \n",
       "5  3076.95         4215  2024             758.7         4215  \n",
       "6   546.14          581  2024              74.7          581  \n",
       "7  2773.05         2919  2024             875.7         2919  \n",
       "8  1362.42         2523  2024             756.9         2523  \n",
       "9   615.60          760  2024             684.0          760  "
      ]
     },
     "execution_count": 43,
     "metadata": {},
     "output_type": "execute_result"
    }
   ],
   "source": [
    "# Step 2: View the data\n",
    "df.head(10)  # Show the first 5 rows"
   ]
  },
  {
   "cell_type": "code",
   "execution_count": 8,
   "id": "a4e91b94",
   "metadata": {},
   "outputs": [
    {
     "name": "stdout",
     "output_type": "stream",
     "text": [
      "<class 'pandas.core.frame.DataFrame'>\n",
      "RangeIndex: 50000 entries, 0 to 49999\n",
      "Data columns (total 9 columns):\n",
      " #   Column    Non-Null Count  Dtype  \n",
      "---  ------    --------------  -----  \n",
      " 0   OrderID   50000 non-null  int32  \n",
      " 1   Product   50000 non-null  object \n",
      " 2   Category  50000 non-null  object \n",
      " 3   Quantity  50000 non-null  int32  \n",
      " 4   Price     50000 non-null  int32  \n",
      " 5   Discount  50000 non-null  float64\n",
      " 6   Region    50000 non-null  object \n",
      " 7   Date      50000 non-null  object \n",
      " 8   Revenue   50000 non-null  float64\n",
      "dtypes: float64(2), int32(3), object(4)\n",
      "memory usage: 2.9+ MB\n",
      "None\n"
     ]
    }
   ],
   "source": [
    "print(df.info())  # description of the dataset"
   ]
  },
  {
   "cell_type": "code",
   "execution_count": 9,
   "id": "890ea89c",
   "metadata": {},
   "outputs": [
    {
     "name": "stdout",
     "output_type": "stream",
     "text": [
      "0          Notebook\n",
      "1        Desk Chair\n",
      "2              Desk\n",
      "3          Notebook\n",
      "4            Tablet\n",
      "            ...    \n",
      "49995    Coffee Mug\n",
      "49996    Coffee Mug\n",
      "49997        Tablet\n",
      "49998    Smartphone\n",
      "49999        Tablet\n",
      "Name: Product, Length: 50000, dtype: object\n"
     ]
    }
   ],
   "source": [
    "# Step 3: Select specific columns and rows\n",
    "print(df[\"Product\"])  # Show the Product column"
   ]
  },
  {
   "cell_type": "code",
   "execution_count": 10,
   "id": "3eb6227a",
   "metadata": {},
   "outputs": [
    {
     "name": "stdout",
     "output_type": "stream",
     "text": [
      "          Product  Price\n",
      "0        Notebook    455\n",
      "1      Desk Chair    965\n",
      "2            Desk    648\n",
      "3        Notebook    526\n",
      "4          Tablet    613\n",
      "...           ...    ...\n",
      "49995  Coffee Mug    253\n",
      "49996  Coffee Mug    702\n",
      "49997      Tablet    385\n",
      "49998  Smartphone    167\n",
      "49999      Tablet    823\n",
      "\n",
      "[50000 rows x 2 columns]\n"
     ]
    }
   ],
   "source": [
    "print(df[[\"Product\", \"Price\"]])  # Show multiple columns"
   ]
  },
  {
   "cell_type": "code",
   "execution_count": 11,
   "id": "a261d44e",
   "metadata": {},
   "outputs": [
    {
     "name": "stdout",
     "output_type": "stream",
     "text": [
      "    OrderID     Product     Category  Quantity  Price  Discount      Region  \\\n",
      "2         3        Desk  Electronics         1    648      0.02     Midwest   \n",
      "7         8        Desk  Electronics         3    973      0.05       South   \n",
      "8         9    Notebook  Electronics         3    841      0.46       South   \n",
      "9        10  Smartphone  Electronics         1    760      0.19  West Coast   \n",
      "13       14      Tablet  Electronics         5    385      0.27     Midwest   \n",
      "\n",
      "          Date  Revenue  \n",
      "2   2024-01-01   635.04  \n",
      "7   2024-01-01  2773.05  \n",
      "8   2024-01-01  1362.42  \n",
      "9   2024-01-01   615.60  \n",
      "13  2024-01-01  1405.25  \n"
     ]
    }
   ],
   "source": [
    "# Step 4: Filter data\n",
    "#picking out only the rows where the \"Category\" is \"Electronics\" and showing the first 5 of \n",
    "#these rows.\n",
    "filtered = df[df[\"Category\"] == \"Electronics\"]\n",
    "print(filtered.head())  # Show first 5 rows of filtered data"
   ]
  },
  {
   "cell_type": "raw",
   "id": "33433771",
   "metadata": {},
   "source": [
    "This code is filtering rows in a dataset where the \"Category\" column has the value \"Electronics.\" Here's an easy explanation:\n",
    "\n",
    "df[\"Category\"] == \"Electronics\": This checks every row in the \"Category\" column of the dataset df. If the value in that row is \"Electronics,\" it marks it as True; otherwise, it's False.\n",
    "\n",
    "df[df[\"Category\"] == \"Electronics\"]: This takes the original dataset (df) and selects only the rows where the condition (Category is \"Electronics\") is True. This gives you a smaller dataset with just those rows.\n",
    "\n",
    "filtered = ...: The filtered rows are saved in a new dataset called filtered.\n",
    "\n",
    "print(filtered.head()): This prints the first 5 rows of the filtered dataset so you can quickly see what the data looks like after filtering."
   ]
  },
  {
   "cell_type": "code",
   "execution_count": 12,
   "id": "05b7c46a",
   "metadata": {},
   "outputs": [
    {
     "name": "stdout",
     "output_type": "stream",
     "text": [
      "       OrderID     Product         Category  Quantity  Price  Discount  \\\n",
      "43772    43773        Desk      Electronics         4   1000      0.49   \n",
      "21355    21356  Desk Chair      Electronics         6   1000      0.36   \n",
      "25966    25967  Coffee Mug        Furniture         8   1000      0.11   \n",
      "10282    10283  Coffee Mug      Electronics         4   1000      0.41   \n",
      "7367      7368  Smartphone  Office Supplies         4   1000      0.11   \n",
      "\n",
      "           Region        Date  Revenue  \n",
      "43772  East Coast  2024-01-31   2040.0  \n",
      "21355  East Coast  2024-01-15   3840.0  \n",
      "25966     Midwest  2024-01-19   7120.0  \n",
      "10282  West Coast  2024-01-08   2360.0  \n",
      "7367      Midwest  2024-01-06   3560.0  \n"
     ]
    }
   ],
   "source": [
    "# Step 5: Sort data\n",
    "sorted_df = df.sort_values(by=\"Price\", ascending=False)\n",
    "print(sorted_df.head())  # Show the most expensive items"
   ]
  },
  {
   "cell_type": "code",
   "execution_count": 13,
   "id": "944c9aca",
   "metadata": {},
   "outputs": [
    {
     "name": "stdout",
     "output_type": "stream",
     "text": [
      "Category\n",
      "Electronics        34527242.08\n",
      "Furniture          34492768.18\n",
      "Office Supplies    34051358.08\n",
      "Name: Revenue, dtype: float64\n"
     ]
    }
   ],
   "source": [
    "# Step 6: Group data and summarize\n",
    "grouped = df.groupby(\"Category\")[\"Revenue\"].sum()\n",
    "print(grouped)"
   ]
  },
  {
   "cell_type": "raw",
   "id": "fc277e18",
   "metadata": {},
   "source": [
    "This code groups your data by the \"Category\" column and adds up the \"Revenue\" for each category. Here's the explanation in simple terms:\n",
    "\n",
    "df.groupby(\"Category\"): This groups all the rows in your dataset based on the values in the \"Category\" column. For example:\n",
    "\n",
    "All rows with \"Electronics\" are grouped together.\n",
    "All rows with \"Clothing\" are grouped together.\n",
    "And so on for other categories.\n",
    "[\"Revenue\"].sum(): After grouping by \"Category,\" it looks at the \"Revenue\" column and adds up the revenue values for each group (category).\n",
    "\n",
    "grouped = ...: The result, which shows the total revenue for each category, is stored in a new variable called grouped.\n",
    "\n",
    "print(grouped): This prints the total revenue for each category.\n",
    "\n",
    "In short, you're calculating the total revenue for each category!"
   ]
  },
  {
   "cell_type": "code",
   "execution_count": 15,
   "id": "a454c707",
   "metadata": {},
   "outputs": [
    {
     "name": "stdout",
     "output_type": "stream",
     "text": [
      "\n",
      "Products with Price > 100:\n",
      "       OrderID     Product         Category  Quantity  Price  Discount  \\\n",
      "0            1    Notebook        Furniture         1    455      0.12   \n",
      "1            2  Desk Chair        Furniture         3    965      0.20   \n",
      "2            3        Desk      Electronics         1    648      0.02   \n",
      "3            4    Notebook  Office Supplies         9    526      0.09   \n",
      "4            5      Tablet  Office Supplies         7    613      0.41   \n",
      "...        ...         ...              ...       ...    ...       ...   \n",
      "49995    49996  Coffee Mug  Office Supplies         4    253      0.14   \n",
      "49996    49997  Coffee Mug  Office Supplies         8    702      0.14   \n",
      "49997    49998      Tablet        Furniture         1    385      0.32   \n",
      "49998    49999  Smartphone  Office Supplies        10    167      0.08   \n",
      "49999    50000      Tablet  Office Supplies         4    823      0.11   \n",
      "\n",
      "           Region        Date  Revenue  \n",
      "0         Midwest  2024-01-01   400.40  \n",
      "1      East Coast  2024-01-01  2316.00  \n",
      "2         Midwest  2024-01-01   635.04  \n",
      "3         Midwest  2024-01-01  4307.94  \n",
      "4           South  2024-01-01  2531.69  \n",
      "...           ...         ...      ...  \n",
      "49995       South  2024-02-04   870.32  \n",
      "49996     Midwest  2024-02-04  4829.76  \n",
      "49997  East Coast  2024-02-04   261.80  \n",
      "49998  West Coast  2024-02-04  1536.40  \n",
      "49999  West Coast  2024-02-04  2929.88  \n",
      "\n",
      "[45186 rows x 9 columns]\n"
     ]
    }
   ],
   "source": [
    "# Step 4: Filter the data\n",
    "#Products with Price > 100:\n",
    "expensive = df[df[\"Price\"] > 100]\n",
    "print(expensive)"
   ]
  },
  {
   "cell_type": "code",
   "execution_count": 16,
   "id": "fdfd28dc",
   "metadata": {},
   "outputs": [
    {
     "name": "stdout",
     "output_type": "stream",
     "text": [
      "       OrderID     Product         Category  Quantity  Price  Discount  \\\n",
      "0            1    Notebook        Furniture         1    455      0.12   \n",
      "1            2  Desk Chair        Furniture         3    965      0.20   \n",
      "2            3        Desk      Electronics         1    648      0.02   \n",
      "3            4    Notebook  Office Supplies         9    526      0.09   \n",
      "4            5      Tablet  Office Supplies         7    613      0.41   \n",
      "...        ...         ...              ...       ...    ...       ...   \n",
      "49995    49996  Coffee Mug  Office Supplies         4    253      0.14   \n",
      "49996    49997  Coffee Mug  Office Supplies         8    702      0.14   \n",
      "49997    49998      Tablet        Furniture         1    385      0.32   \n",
      "49998    49999  Smartphone  Office Supplies        10    167      0.08   \n",
      "49999    50000      Tablet  Office Supplies         4    823      0.11   \n",
      "\n",
      "           Region        Date  Revenue  Total  \n",
      "0         Midwest  2024-01-01   400.40    455  \n",
      "1      East Coast  2024-01-01  2316.00   2895  \n",
      "2         Midwest  2024-01-01   635.04    648  \n",
      "3         Midwest  2024-01-01  4307.94   4734  \n",
      "4           South  2024-01-01  2531.69   4291  \n",
      "...           ...         ...      ...    ...  \n",
      "49995       South  2024-02-04   870.32   1012  \n",
      "49996     Midwest  2024-02-04  4829.76   5616  \n",
      "49997  East Coast  2024-02-04   261.80    385  \n",
      "49998  West Coast  2024-02-04  1536.40   1670  \n",
      "49999  West Coast  2024-02-04  2929.88   3292  \n",
      "\n",
      "[50000 rows x 10 columns]\n"
     ]
    }
   ],
   "source": [
    "# Step 6: Add a new column\n",
    "df[\"Total\"] = df[\"Quantity\"] * df[\"Price\"]\n",
    "print(df)"
   ]
  },
  {
   "cell_type": "code",
   "execution_count": 17,
   "id": "c31f8f78",
   "metadata": {},
   "outputs": [
    {
     "name": "stdout",
     "output_type": "stream",
     "text": [
      "            OrderID      Quantity         Price      Discount       Revenue  \\\n",
      "count  50000.000000  50000.000000  50000.000000  50000.000000  50000.000000   \n",
      "mean   25000.500000      5.502780    503.015720      0.256261   2061.427367   \n",
      "std    14433.901067      2.881187    287.673717      0.141469   1788.717093   \n",
      "min        1.000000      1.000000      5.000000      0.010000      2.600000   \n",
      "25%    12500.750000      3.000000    254.000000      0.130000    625.435000   \n",
      "50%    25000.500000      5.000000    503.000000      0.260000   1551.015000   \n",
      "75%    37500.250000      8.000000    753.000000      0.380000   3072.300000   \n",
      "max    50000.000000     10.000000   1000.000000      0.500000   9800.000000   \n",
      "\n",
      "              Total  \n",
      "count  50000.000000  \n",
      "mean    2772.684640  \n",
      "std     2305.231638  \n",
      "min        5.000000  \n",
      "25%      867.000000  \n",
      "50%     2121.000000  \n",
      "75%     4182.000000  \n",
      "max    10000.000000  \n"
     ]
    }
   ],
   "source": [
    "# Get summary statistics (like average, minimum, and maximum)\n",
    "print(df.describe())"
   ]
  },
  {
   "cell_type": "code",
   "execution_count": 18,
   "id": "da56a07a",
   "metadata": {},
   "outputs": [
    {
     "name": "stdout",
     "output_type": "stream",
     "text": [
      "OrderID       int32\n",
      "Product      object\n",
      "Category     object\n",
      "Quantity      int32\n",
      "Price         int32\n",
      "Discount    float64\n",
      "Region       object\n",
      "Date         object\n",
      "Revenue     float64\n",
      "Total         int32\n",
      "dtype: object\n"
     ]
    }
   ],
   "source": [
    "# Check the data types of all columns\n",
    "print(df.dtypes)"
   ]
  },
  {
   "cell_type": "code",
   "execution_count": 19,
   "id": "9c2d02c2",
   "metadata": {},
   "outputs": [
    {
     "name": "stdout",
     "output_type": "stream",
     "text": [
      "       OrderID     Product         Category  Quantity  Price  Discount  \\\n",
      "0            1    Notebook        Furniture         1    455      0.12   \n",
      "1            2  Desk Chair        Furniture         3    965      0.20   \n",
      "2            3        Desk      Electronics         1    648      0.02   \n",
      "3            4    Notebook  Office Supplies         9    526      0.09   \n",
      "4            5      Tablet  Office Supplies         7    613      0.41   \n",
      "...        ...         ...              ...       ...    ...       ...   \n",
      "49995    49996  Coffee Mug  Office Supplies         4    253      0.14   \n",
      "49996    49997  Coffee Mug  Office Supplies         8    702      0.14   \n",
      "49997    49998      Tablet        Furniture         1    385      0.32   \n",
      "49998    49999  Smartphone  Office Supplies        10    167      0.08   \n",
      "49999    50000      Tablet  Office Supplies         4    823      0.11   \n",
      "\n",
      "           Region        Date  Revenue  Total Price  \n",
      "0         Midwest  2024-01-01   400.40          455  \n",
      "1      East Coast  2024-01-01  2316.00         2895  \n",
      "2         Midwest  2024-01-01   635.04          648  \n",
      "3         Midwest  2024-01-01  4307.94         4734  \n",
      "4           South  2024-01-01  2531.69         4291  \n",
      "...           ...         ...      ...          ...  \n",
      "49995       South  2024-02-04   870.32         1012  \n",
      "49996     Midwest  2024-02-04  4829.76         5616  \n",
      "49997  East Coast  2024-02-04   261.80          385  \n",
      "49998  West Coast  2024-02-04  1536.40         1670  \n",
      "49999  West Coast  2024-02-04  2929.88         3292  \n",
      "\n",
      "[50000 rows x 10 columns]\n"
     ]
    }
   ],
   "source": [
    "# Rename the column \"Total\" to \"Total Price\"\n",
    "df = df.rename(columns={\"Total\": \"Total Price\"})\n",
    "print(df)"
   ]
  },
  {
   "cell_type": "raw",
   "id": "4c0b9acc",
   "metadata": {},
   "source": [
    "This code renames a column in the dataset df. Specifically, it changes the column name \"Total\" to \"Total Price\". Here's a breakdown of the syntax:\n",
    "\n",
    "df.rename(): This is a function used to rename columns or rows in the dataset.\n",
    "\n",
    "columns={...}: This tells the function that you're renaming one or more column names. The format is:\n",
    "\n",
    "Key: The existing column name (\"Total\").\n",
    "Value: The new column name (\"Total Price\").\n",
    "df = ...: This updates the original dataset by assigning the result of the renaming back to df."
   ]
  },
  {
   "cell_type": "code",
   "execution_count": 20,
   "id": "bd17c4a4",
   "metadata": {},
   "outputs": [
    {
     "name": "stdout",
     "output_type": "stream",
     "text": [
      "       OrderID     Product         Category  Quantity  Price  Discount  \\\n",
      "0            1    Notebook        Furniture         1    455      0.12   \n",
      "1            2  Desk Chair        Furniture         3    965      0.20   \n",
      "2            3        Desk      Electronics         1    648      0.02   \n",
      "3            4    Notebook  Office Supplies         9    526      0.09   \n",
      "4            5      Tablet  Office Supplies         7    613      0.41   \n",
      "...        ...         ...              ...       ...    ...       ...   \n",
      "49995    49996  Coffee Mug  Office Supplies         4    253      0.14   \n",
      "49996    49997  Coffee Mug  Office Supplies         8    702      0.14   \n",
      "49997    49998      Tablet        Furniture         1    385      0.32   \n",
      "49998    49999  Smartphone  Office Supplies        10    167      0.08   \n",
      "49999    50000      Tablet  Office Supplies         4    823      0.11   \n",
      "\n",
      "             Date  Revenue  Total Price  \n",
      "0      2024-01-01   400.40          455  \n",
      "1      2024-01-01  2316.00         2895  \n",
      "2      2024-01-01   635.04          648  \n",
      "3      2024-01-01  4307.94         4734  \n",
      "4      2024-01-01  2531.69         4291  \n",
      "...           ...      ...          ...  \n",
      "49995  2024-02-04   870.32         1012  \n",
      "49996  2024-02-04  4829.76         5616  \n",
      "49997  2024-02-04   261.80          385  \n",
      "49998  2024-02-04  1536.40         1670  \n",
      "49999  2024-02-04  2929.88         3292  \n",
      "\n",
      "[50000 rows x 9 columns]\n"
     ]
    }
   ],
   "source": [
    "# Drop the \"Region\" column\n",
    "df = df.drop(columns=[\"Region\"])\n",
    "print(df)"
   ]
  },
  {
   "cell_type": "code",
   "execution_count": 21,
   "id": "0b056103",
   "metadata": {},
   "outputs": [
    {
     "name": "stdout",
     "output_type": "stream",
     "text": [
      "       OrderID     Product         Category  Quantity  Price  Discount  \\\n",
      "0            1    Notebook        Furniture         1    455      0.12   \n",
      "1            2  Desk Chair        Furniture         3    965      0.20   \n",
      "2            3        Desk      Electronics         1    648      0.02   \n",
      "3            4    Notebook  Office Supplies         9    526      0.09   \n",
      "4            5      Tablet  Office Supplies         7    613      0.41   \n",
      "...        ...         ...              ...       ...    ...       ...   \n",
      "49995    49996  Coffee Mug  Office Supplies         4    253      0.14   \n",
      "49996    49997  Coffee Mug  Office Supplies         8    702      0.14   \n",
      "49997    49998      Tablet        Furniture         1    385      0.32   \n",
      "49998    49999  Smartphone  Office Supplies        10    167      0.08   \n",
      "49999    50000      Tablet  Office Supplies         4    823      0.11   \n",
      "\n",
      "             Date  Revenue  Total Price  \n",
      "0      2024-01-01   400.40          455  \n",
      "1      2024-01-01  2316.00         2895  \n",
      "2      2024-01-01   635.04          648  \n",
      "3      2024-01-01  4307.94         4734  \n",
      "4      2024-01-01  2531.69         4291  \n",
      "...           ...      ...          ...  \n",
      "49995  2024-02-04   870.32         1012  \n",
      "49996  2024-02-04  4829.76         5616  \n",
      "49997  2024-02-04   261.80          385  \n",
      "49998  2024-02-04  1536.40         1670  \n",
      "49999  2024-02-04  2929.88         3292  \n",
      "\n",
      "[50000 rows x 9 columns]\n"
     ]
    }
   ],
   "source": [
    "# Reorganize the row numbers after filtering or sorting.\n",
    "# Reset the row numbers\n",
    "df = df.reset_index(drop=True)\n",
    "print(df)\n",
    "# drop=True Setting drop=True tells it not to save the old index in the DataFrame."
   ]
  },
  {
   "cell_type": "code",
   "execution_count": 22,
   "id": "37b101f8",
   "metadata": {},
   "outputs": [
    {
     "name": "stdout",
     "output_type": "stream",
     "text": [
      "8\n"
     ]
    }
   ],
   "source": [
    "# Find out how many unique items are in a column.\n",
    "# Count unique products\n",
    "# nunique counts the unique values \n",
    "print(df[\"Product\"].nunique())"
   ]
  },
  {
   "cell_type": "code",
   "execution_count": 23,
   "id": "b92f4f45",
   "metadata": {},
   "outputs": [
    {
     "name": "stdout",
     "output_type": "stream",
     "text": [
      "['Notebook' 'Desk Chair' 'Desk' 'Tablet' 'Coffee Mug' 'Smartphone' 'Pen'\n",
      " 'Laptop']\n"
     ]
    }
   ],
   "source": [
    "# See what unique items are in a column.\n",
    "# List unique product names\n",
    "print(df[\"Product\"].unique())"
   ]
  },
  {
   "cell_type": "code",
   "execution_count": 25,
   "id": "4dd9b007",
   "metadata": {},
   "outputs": [
    {
     "name": "stdout",
     "output_type": "stream",
     "text": [
      "       OrderID     Product         Category  Quantity  Price  Discount  \\\n",
      "9727      9728        Desk      Electronics         1   1000      0.49   \n",
      "10036    10037      Tablet  Office Supplies         1   1000      0.41   \n",
      "23526    23527      Tablet      Electronics         1   1000      0.29   \n",
      "30182    30183      Tablet      Electronics         1   1000      0.18   \n",
      "30362    30363        Desk  Office Supplies         1   1000      0.35   \n",
      "...        ...         ...              ...       ...    ...       ...   \n",
      "13547    13548  Desk Chair        Furniture        10      5      0.34   \n",
      "17514    17515  Coffee Mug        Furniture        10      5      0.22   \n",
      "19626    19627      Tablet      Electronics        10      5      0.21   \n",
      "20547    20548      Laptop        Furniture        10      5      0.19   \n",
      "27421    27422      Tablet        Furniture        10      5      0.46   \n",
      "\n",
      "             Date  Revenue  Total Price  \n",
      "9727   2024-01-07    510.0         1000  \n",
      "10036  2024-01-07    590.0         1000  \n",
      "23526  2024-01-17    710.0         1000  \n",
      "30182  2024-01-21    820.0         1000  \n",
      "30362  2024-01-22    650.0         1000  \n",
      "...           ...      ...          ...  \n",
      "13547  2024-01-10     33.0           50  \n",
      "17514  2024-01-13     39.0           50  \n",
      "19626  2024-01-14     39.5           50  \n",
      "20547  2024-01-15     40.5           50  \n",
      "27421  2024-01-20     27.0           50  \n",
      "\n",
      "[50000 rows x 9 columns]\n"
     ]
    }
   ],
   "source": [
    "# Sort the data using more than one column.\n",
    "# Sort by Quantity (ascending) and then by Price (descending)\n",
    "sorted_df = df.sort_values(by=[\"Quantity\", \"Price\"], ascending=[True, False])\n",
    "print(sorted_df)"
   ]
  },
  {
   "cell_type": "code",
   "execution_count": 26,
   "id": "0bf70122",
   "metadata": {},
   "outputs": [
    {
     "name": "stdout",
     "output_type": "stream",
     "text": [
      "       OrderID     Product         Category  Quantity  Price  Discount  \\\n",
      "1            2  Desk Chair        Furniture         3    965      0.20   \n",
      "3            4    Notebook  Office Supplies         9    526      0.09   \n",
      "4            5      Tablet  Office Supplies         7    613      0.41   \n",
      "5            6  Coffee Mug  Office Supplies         5    843      0.27   \n",
      "7            8        Desk      Electronics         3    973      0.05   \n",
      "...        ...         ...              ...       ...    ...       ...   \n",
      "49993    49994      Tablet      Electronics         6    626      0.30   \n",
      "49995    49996  Coffee Mug  Office Supplies         4    253      0.14   \n",
      "49996    49997  Coffee Mug  Office Supplies         8    702      0.14   \n",
      "49998    49999  Smartphone  Office Supplies        10    167      0.08   \n",
      "49999    50000      Tablet  Office Supplies         4    823      0.11   \n",
      "\n",
      "             Date  Revenue  Total Price  \n",
      "1      2024-01-01  2316.00         2895  \n",
      "3      2024-01-01  4307.94         4734  \n",
      "4      2024-01-01  2531.69         4291  \n",
      "5      2024-01-01  3076.95         4215  \n",
      "7      2024-01-01  2773.05         2919  \n",
      "...           ...      ...          ...  \n",
      "49993  2024-02-04  2629.20         3756  \n",
      "49995  2024-02-04   870.32         1012  \n",
      "49996  2024-02-04  4829.76         5616  \n",
      "49998  2024-02-04  1536.40         1670  \n",
      "49999  2024-02-04  2929.88         3292  \n",
      "\n",
      "[36119 rows x 9 columns]\n"
     ]
    }
   ],
   "source": [
    "# Select rows based on multiple conditions.\n",
    "# Get rows where Quantity > 2 and Price > 100\n",
    "filtered = df[(df[\"Quantity\"] > 2) & (df[\"Price\"] > 100)]\n",
    "print(filtered)"
   ]
  },
  {
   "cell_type": "code",
   "execution_count": 27,
   "id": "03aaae0b",
   "metadata": {},
   "outputs": [
    {
     "name": "stdout",
     "output_type": "stream",
     "text": [
      "50000\n"
     ]
    }
   ],
   "source": [
    "# Quickly find out how many rows are in the dataset.\n",
    "# Count the total number of rows\n",
    "print(len(df))"
   ]
  },
  {
   "cell_type": "code",
   "execution_count": 30,
   "id": "65839302",
   "metadata": {},
   "outputs": [
    {
     "data": {
      "text/plain": [
       "(50000, 9)"
      ]
     },
     "execution_count": 30,
     "metadata": {},
     "output_type": "execute_result"
    }
   ],
   "source": [
    "# find out how many rows and columns in the dataset\n",
    "df.shape"
   ]
  },
  {
   "cell_type": "code",
   "execution_count": 31,
   "id": "978feafc",
   "metadata": {},
   "outputs": [],
   "source": [
    "# Extract parts of a date, like the year or month.\n",
    "# Convert Date to a datetime format if it's not already\n",
    "df[\"Date\"] = pd.to_datetime(df[\"Date\"])"
   ]
  },
  {
   "cell_type": "code",
   "execution_count": 32,
   "id": "8eea6eb6",
   "metadata": {},
   "outputs": [
    {
     "data": {
      "text/html": [
       "<div>\n",
       "<style scoped>\n",
       "    .dataframe tbody tr th:only-of-type {\n",
       "        vertical-align: middle;\n",
       "    }\n",
       "\n",
       "    .dataframe tbody tr th {\n",
       "        vertical-align: top;\n",
       "    }\n",
       "\n",
       "    .dataframe thead th {\n",
       "        text-align: right;\n",
       "    }\n",
       "</style>\n",
       "<table border=\"1\" class=\"dataframe\">\n",
       "  <thead>\n",
       "    <tr style=\"text-align: right;\">\n",
       "      <th></th>\n",
       "      <th>OrderID</th>\n",
       "      <th>Product</th>\n",
       "      <th>Category</th>\n",
       "      <th>Quantity</th>\n",
       "      <th>Price</th>\n",
       "      <th>Discount</th>\n",
       "      <th>Date</th>\n",
       "      <th>Revenue</th>\n",
       "      <th>Total Price</th>\n",
       "    </tr>\n",
       "  </thead>\n",
       "  <tbody>\n",
       "    <tr>\n",
       "      <th>0</th>\n",
       "      <td>1</td>\n",
       "      <td>Notebook</td>\n",
       "      <td>Furniture</td>\n",
       "      <td>1</td>\n",
       "      <td>455</td>\n",
       "      <td>0.12</td>\n",
       "      <td>2024-01-01</td>\n",
       "      <td>400.40</td>\n",
       "      <td>455</td>\n",
       "    </tr>\n",
       "    <tr>\n",
       "      <th>1</th>\n",
       "      <td>2</td>\n",
       "      <td>Desk Chair</td>\n",
       "      <td>Furniture</td>\n",
       "      <td>3</td>\n",
       "      <td>965</td>\n",
       "      <td>0.20</td>\n",
       "      <td>2024-01-01</td>\n",
       "      <td>2316.00</td>\n",
       "      <td>2895</td>\n",
       "    </tr>\n",
       "    <tr>\n",
       "      <th>2</th>\n",
       "      <td>3</td>\n",
       "      <td>Desk</td>\n",
       "      <td>Electronics</td>\n",
       "      <td>1</td>\n",
       "      <td>648</td>\n",
       "      <td>0.02</td>\n",
       "      <td>2024-01-01</td>\n",
       "      <td>635.04</td>\n",
       "      <td>648</td>\n",
       "    </tr>\n",
       "    <tr>\n",
       "      <th>3</th>\n",
       "      <td>4</td>\n",
       "      <td>Notebook</td>\n",
       "      <td>Office Supplies</td>\n",
       "      <td>9</td>\n",
       "      <td>526</td>\n",
       "      <td>0.09</td>\n",
       "      <td>2024-01-01</td>\n",
       "      <td>4307.94</td>\n",
       "      <td>4734</td>\n",
       "    </tr>\n",
       "    <tr>\n",
       "      <th>4</th>\n",
       "      <td>5</td>\n",
       "      <td>Tablet</td>\n",
       "      <td>Office Supplies</td>\n",
       "      <td>7</td>\n",
       "      <td>613</td>\n",
       "      <td>0.41</td>\n",
       "      <td>2024-01-01</td>\n",
       "      <td>2531.69</td>\n",
       "      <td>4291</td>\n",
       "    </tr>\n",
       "  </tbody>\n",
       "</table>\n",
       "</div>"
      ],
      "text/plain": [
       "   OrderID     Product         Category  Quantity  Price  Discount       Date  \\\n",
       "0        1    Notebook        Furniture         1    455      0.12 2024-01-01   \n",
       "1        2  Desk Chair        Furniture         3    965      0.20 2024-01-01   \n",
       "2        3        Desk      Electronics         1    648      0.02 2024-01-01   \n",
       "3        4    Notebook  Office Supplies         9    526      0.09 2024-01-01   \n",
       "4        5      Tablet  Office Supplies         7    613      0.41 2024-01-01   \n",
       "\n",
       "   Revenue  Total Price  \n",
       "0   400.40          455  \n",
       "1  2316.00         2895  \n",
       "2   635.04          648  \n",
       "3  4307.94         4734  \n",
       "4  2531.69         4291  "
      ]
     },
     "execution_count": 32,
     "metadata": {},
     "output_type": "execute_result"
    }
   ],
   "source": [
    "df.head()"
   ]
  },
  {
   "cell_type": "code",
   "execution_count": 33,
   "id": "426fec19",
   "metadata": {},
   "outputs": [
    {
     "name": "stdout",
     "output_type": "stream",
     "text": [
      "       OrderID     Product         Category  Quantity  Price  Discount  \\\n",
      "0            1    Notebook        Furniture         1    455      0.12   \n",
      "1            2  Desk Chair        Furniture         3    965      0.20   \n",
      "2            3        Desk      Electronics         1    648      0.02   \n",
      "3            4    Notebook  Office Supplies         9    526      0.09   \n",
      "4            5      Tablet  Office Supplies         7    613      0.41   \n",
      "...        ...         ...              ...       ...    ...       ...   \n",
      "49995    49996  Coffee Mug  Office Supplies         4    253      0.14   \n",
      "49996    49997  Coffee Mug  Office Supplies         8    702      0.14   \n",
      "49997    49998      Tablet        Furniture         1    385      0.32   \n",
      "49998    49999  Smartphone  Office Supplies        10    167      0.08   \n",
      "49999    50000      Tablet  Office Supplies         4    823      0.11   \n",
      "\n",
      "            Date  Revenue  Total Price  Year  \n",
      "0     2024-01-01   400.40          455  2024  \n",
      "1     2024-01-01  2316.00         2895  2024  \n",
      "2     2024-01-01   635.04          648  2024  \n",
      "3     2024-01-01  4307.94         4734  2024  \n",
      "4     2024-01-01  2531.69         4291  2024  \n",
      "...          ...      ...          ...   ...  \n",
      "49995 2024-02-04   870.32         1012  2024  \n",
      "49996 2024-02-04  4829.76         5616  2024  \n",
      "49997 2024-02-04   261.80          385  2024  \n",
      "49998 2024-02-04  1536.40         1670  2024  \n",
      "49999 2024-02-04  2929.88         3292  2024  \n",
      "\n",
      "[50000 rows x 10 columns]\n"
     ]
    }
   ],
   "source": [
    "# Extract the year\n",
    "df[\"Year\"] = df[\"Date\"].dt.year\n",
    "print(df)"
   ]
  },
  {
   "cell_type": "code",
   "execution_count": 34,
   "id": "010ba237",
   "metadata": {},
   "outputs": [],
   "source": [
    "# Use a simple function to modify or compute values in a column.\n",
    "# Create a simple function to calculate the discount price\n",
    "def calculate_discount(price):\n",
    "    return price * 0.90  # 10% discount"
   ]
  },
  {
   "cell_type": "code",
   "execution_count": 35,
   "id": "219eadda",
   "metadata": {},
   "outputs": [
    {
     "name": "stdout",
     "output_type": "stream",
     "text": [
      "       OrderID     Product         Category  Quantity  Price  Discount  \\\n",
      "0            1    Notebook        Furniture         1    455      0.12   \n",
      "1            2  Desk Chair        Furniture         3    965      0.20   \n",
      "2            3        Desk      Electronics         1    648      0.02   \n",
      "3            4    Notebook  Office Supplies         9    526      0.09   \n",
      "4            5      Tablet  Office Supplies         7    613      0.41   \n",
      "...        ...         ...              ...       ...    ...       ...   \n",
      "49995    49996  Coffee Mug  Office Supplies         4    253      0.14   \n",
      "49996    49997  Coffee Mug  Office Supplies         8    702      0.14   \n",
      "49997    49998      Tablet        Furniture         1    385      0.32   \n",
      "49998    49999  Smartphone  Office Supplies        10    167      0.08   \n",
      "49999    50000      Tablet  Office Supplies         4    823      0.11   \n",
      "\n",
      "            Date  Revenue  Total Price  Year  Discounted Price  \n",
      "0     2024-01-01   400.40          455  2024             409.5  \n",
      "1     2024-01-01  2316.00         2895  2024             868.5  \n",
      "2     2024-01-01   635.04          648  2024             583.2  \n",
      "3     2024-01-01  4307.94         4734  2024             473.4  \n",
      "4     2024-01-01  2531.69         4291  2024             551.7  \n",
      "...          ...      ...          ...   ...               ...  \n",
      "49995 2024-02-04   870.32         1012  2024             227.7  \n",
      "49996 2024-02-04  4829.76         5616  2024             631.8  \n",
      "49997 2024-02-04   261.80          385  2024             346.5  \n",
      "49998 2024-02-04  1536.40         1670  2024             150.3  \n",
      "49999 2024-02-04  2929.88         3292  2024             740.7  \n",
      "\n",
      "[50000 rows x 11 columns]\n"
     ]
    }
   ],
   "source": [
    "# Apply this function to the \"Price\" column\n",
    "df[\"Discounted Price\"] = df[\"Price\"].apply(calculate_discount)\n",
    "print(df)"
   ]
  },
  {
   "cell_type": "code",
   "execution_count": 36,
   "id": "eefb19a2",
   "metadata": {},
   "outputs": [
    {
     "name": "stdout",
     "output_type": "stream",
     "text": [
      "Max Price: 1000\n",
      "Min Price: 5\n"
     ]
    }
   ],
   "source": [
    "# Find the highest and lowest values in a column.\n",
    "# Find the maximum and minimum price\n",
    "max_price = df[\"Price\"].max()\n",
    "min_price = df[\"Price\"].min()\n",
    "print(\"Max Price:\", max_price)\n",
    "print(\"Min Price:\", min_price)"
   ]
  },
  {
   "cell_type": "code",
   "execution_count": 38,
   "id": "6bec311d",
   "metadata": {},
   "outputs": [
    {
     "name": "stdout",
     "output_type": "stream",
     "text": [
      "OrderID                      int32\n",
      "Product                   category\n",
      "Category                    object\n",
      "Quantity                     int32\n",
      "Price                        int32\n",
      "Discount                   float64\n",
      "Date                datetime64[ns]\n",
      "Revenue                    float64\n",
      "Total Price                  int32\n",
      "Year                         int32\n",
      "Discounted Price           float64\n",
      "Total Value                  int32\n",
      "dtype: object\n"
     ]
    }
   ],
   "source": [
    "# Change a column to a categorical type to save memory.\n",
    "# Convert \"Product\" column to a categorical type\n",
    "df[\"Product\"] = df[\"Product\"].astype(\"category\")\n",
    "print(df.dtypes)"
   ]
  },
  {
   "cell_type": "code",
   "execution_count": 39,
   "id": "76cb939a",
   "metadata": {},
   "outputs": [
    {
     "name": "stdout",
     "output_type": "stream",
     "text": [
      "       OrderID     Product         Category  Quantity  Price  Discount  \\\n",
      "18973    18974         Pen  Office Supplies         3    246      0.24   \n",
      "34552    34553      Tablet      Electronics         1    156      0.41   \n",
      "37955    37956  Desk Chair        Furniture         7     86      0.02   \n",
      "\n",
      "            Date  Revenue  Total Price  Year  Discounted Price  Total Value  \n",
      "18973 2024-01-14   560.88          738  2024             221.4          738  \n",
      "34552 2024-01-24    92.04          156  2024             140.4          156  \n",
      "37955 2024-01-27   589.96          602  2024              77.4          602  \n"
     ]
    }
   ],
   "source": [
    "# Pick random rows from the DataFrame.\n",
    "# Get 3 random rows from the dataset\n",
    "sample = df.sample(3)\n",
    "print(sample)"
   ]
  },
  {
   "cell_type": "code",
   "execution_count": 40,
   "id": "5e208588",
   "metadata": {},
   "outputs": [
    {
     "name": "stdout",
     "output_type": "stream",
     "text": [
      "Product\n",
      "Desk          6387\n",
      "Notebook      6340\n",
      "Coffee Mug    6268\n",
      "Smartphone    6264\n",
      "Desk Chair    6254\n",
      "Laptop        6229\n",
      "Pen           6168\n",
      "Tablet        6090\n",
      "Name: count, dtype: int64\n"
     ]
    }
   ],
   "source": [
    "# Count how many times each \"Product\" appears\n",
    "product_counts = df[\"Product\"].value_counts()\n",
    "print(product_counts)"
   ]
  },
  {
   "cell_type": "code",
   "execution_count": null,
   "id": "198e5761",
   "metadata": {},
   "outputs": [],
   "source": [
    "df=pd.read_csv(\"cancer.csv\")\n",
    "df.head()"
   ]
  }
 ],
 "metadata": {
  "kernelspec": {
   "display_name": "Python 3 (ipykernel)",
   "language": "python",
   "name": "python3"
  },
  "language_info": {
   "codemirror_mode": {
    "name": "ipython",
    "version": 3
   },
   "file_extension": ".py",
   "mimetype": "text/x-python",
   "name": "python",
   "nbconvert_exporter": "python",
   "pygments_lexer": "ipython3",
   "version": "3.11.5"
  }
 },
 "nbformat": 4,
 "nbformat_minor": 5
}
